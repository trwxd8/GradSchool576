{
 "cells": [
  {
   "cell_type": "markdown",
   "metadata": {
    "colab_type": "text",
    "id": "kB3ViOebJ1Dl"
   },
   "source": [
    "Assignment 3: Image Classification using CNNs\n",
    "==="
   ]
  },
  {
   "cell_type": "markdown",
   "metadata": {
    "colab_type": "text",
    "id": "Yz0UcUjYdIkR"
   },
   "source": [
    "In this assignment you will learn about\n",
    "1. The fundamental computations in neural networks for vision, including backpropagation\n",
    "2. The basics of fitting a model for generalization\n",
    "3. Nearest neighbor classifiers\n",
    "\n",
    "**Note:** When you first load this colab webpage, it will be in read-only viewing mode.  To edit and run code, you can either (a) download the Jupyter notebook (\"File\" -> \"Download .ipynb\") to run on your local computer or (b) copy to your Google Drive (\"File\" -> \"Save a copy in Drive...\") to work in the browser and run on a Google Cloud GPU.  If you run locally, you will need to install Tensorflow and it is recommended that you use a GPU for problem 3.2.  If you do not want to use Colab and do not have a local GPU, please let us know.\n"
   ]
  },
  {
   "cell_type": "markdown",
   "metadata": {
    "colab_type": "text",
    "id": "QRA3pZgr3Z2W"
   },
   "source": [
    "## 3.2.1 Early stopping (15 points)\n",
    "\n",
    "We have specified a very simple convolutional neural network to classify images from the Cifar-10 dataset.  We then provide a training loop to optimize the weights of the network.  Your task is to add Early Stopping (ES) to this training loop.  Validation accuracy should be measured periodically, and training should stop if the validation accuracy does not reach a new absolute maximum after some number of measurements (this is called the \"patience\"). After training, we then measure the test accuracy.  Before implementing ES, run the following cell to see a plot of the training loss and validation accuracy.  Report the test accuracy you have found with ES.\n",
    "\n",
    "## Early Stopping Implementation\n",
    "Early stopping is implemented by continually checking the value of the current accuracy within a certain incremental window. At each increment, the current accuracy is compared to the greatest accuracy found in the testing iterations, saving the current session if it is the greatest. The implementation includes a patience paramenter, to indicate how many increments it will search for a new maximum until quitting.\n",
    "\n",
    "For this implementation, an approach was used to find the best validation increment and patience value similar to hyperparameter tuning. A large set of combinations was tested (see Early_Stopping\\Early_Stopping_Parameter_Tuning.pdf), finally resulting in the parameters chosen - a validation increment of 15 with a maximum patience of 25. While the values were recorded, none of the .ipynb notebooks with the results were saved (although there are several screenshots from results present in the directory).\n",
    "\n",
    "## 3.2.2 Tuning hyperparameters (25 points)\n",
    "\n",
    "The hyperparameters we have chosen are not necessarily optimal.  Pick two factors to search over (e.g. number of layers, filters per layer, learning rate, convolutional kernel size, etc.).  Then write a procedure that uses grid search to find the combination of these hyperparameters that yields the highest validation accuracy.  Finally, report the test accuracy achieved by this model.\n",
    "\n",
    "## Tuning Hyperparameters Implementation\n",
    "The two hyperparameters chosen for tuning in this implementation were learning rate and filter size. A large set of combinations was tested (see Tuning_Hyperparameters\\Hyperparameter_Tuning_Results.pdf), with the learning rate ranging from .001 to .5 and the filter size ranging from 32 to 128 (actual tested values can be seen below in lists or in the pdf). Unfortunately, there was a significant degredation of run time when attempting to calculate multiple hyperparameter combinations together. Therefore, the corresponding runs that led to each values are split into multiple notebooks, found in the Tuning_Hyperparameters directory. Each notebook is run over multiple filter sizes, keeping the learning rate values limited to one or two. The different notebooks can be found in files with the following format \"Assignment3_learningrate_p#.ipynb\", mostly split between 2 notebooks, with an exception of .2 being in three. In the end, the best parameters found in this testing were a learning rate of .06 and a filter size of 112."
   ]
  },
  {
   "cell_type": "code",
   "execution_count": 3,
   "metadata": {
    "colab": {
     "autoexec": {
      "startup": false,
      "wait_interval": 0
     }
    },
    "colab_type": "code",
    "id": "sW5cHzOB7gsX",
    "scrolled": false
   },
   "outputs": [
    {
     "name": "stdout",
     "output_type": "stream",
     "text": [
      "Training... 2018-05-20 22:40:24.886917\n",
      "Iteration 14/2000 ...\n",
      "Iteration 29/2000 ...\n",
      "Iteration 44/2000 ...\n",
      "Iteration 59/2000 ...\n",
      "Iteration 74/2000 ...\n",
      "Iteration 89/2000 ...\n",
      "Iteration 104/2000 ...\n",
      "Iteration 119/2000 ...\n",
      "Iteration 134/2000 ...\n",
      "Iteration 149/2000 ...\n",
      "Iteration 164/2000 ...\n",
      "Iteration 179/2000 ...\n",
      "Iteration 194/2000 ...\n",
      "Iteration 209/2000 ...\n",
      "Iteration 224/2000 ...\n",
      "Iteration 239/2000 ...\n",
      "Iteration 254/2000 ...\n",
      "Iteration 269/2000 ...\n",
      "Iteration 284/2000 ...\n",
      "Iteration 299/2000 ...\n",
      "Iteration 314/2000 ...\n",
      "Iteration 329/2000 ...\n",
      "Iteration 344/2000 ...\n",
      "Iteration 359/2000 ...\n",
      "Iteration 374/2000 ...\n",
      "Iteration 389/2000 ...\n",
      "Iteration 404/2000 ...\n",
      "Iteration 419/2000 ...\n",
      "Iteration 434/2000 ...\n",
      "Iteration 449/2000 ...\n",
      "Iteration 464/2000 ...\n",
      "Iteration 479/2000 ...\n",
      "Iteration 494/2000 ...\n",
      "Iteration 509/2000 ...\n",
      "Iteration 524/2000 ...\n",
      "Iteration 539/2000 ...\n",
      "Iteration 554/2000 ...\n",
      "Iteration 569/2000 ...\n",
      "Iteration 584/2000 ...\n",
      "Iteration 599/2000 ...\n",
      "Iteration 614/2000 ...\n",
      "Iteration 629/2000 ...\n",
      "Iteration 644/2000 ...\n",
      "Iteration 659/2000 ...\n",
      "Iteration 674/2000 ...\n",
      "Iteration 689/2000 ...\n",
      "Iteration 704/2000 ...\n",
      "Iteration 719/2000 ...\n",
      "Iteration 734/2000 ...\n",
      "Iteration 749/2000 ...\n",
      "Iteration 764/2000 ...\n",
      "Iteration 779/2000 ...\n",
      "Iteration 794/2000 ...\n",
      "Iteration 809/2000 ...\n",
      "Iteration 824/2000 ...\n",
      "Iteration 839/2000 ...\n",
      "Iteration 854/2000 ...\n",
      "Iteration 869/2000 ...\n",
      "Iteration 884/2000 ...\n",
      "Iteration 899/2000 ...\n",
      "Iteration 914/2000 ...\n",
      "Iteration 929/2000 ...\n",
      "Iteration 944/2000 ...\n",
      "Iteration 959/2000 ...\n",
      "Iteration 974/2000 ...\n",
      "Iteration 989/2000 ...\n",
      "Iteration 1004/2000 ...\n",
      "Iteration 1019/2000 ...\n",
      "Iteration 1034/2000 ...\n",
      "Iteration 1049/2000 ...\n",
      "Iteration 1064/2000 ...\n",
      "Iteration 1079/2000 ...\n",
      "Iteration 1094/2000 ...\n",
      "Iteration 1109/2000 ...\n",
      "Iteration 1124/2000 ...\n",
      "Iteration 1139/2000 ...\n",
      "Iteration 1154/2000 ...\n",
      "Iteration 1169/2000 ...\n",
      "Iteration 1184/2000 ...\n",
      "Iteration 1199/2000 ...\n",
      "Iteration 1214/2000 ...\n",
      "Iteration 1229/2000 ...\n",
      "Iteration 1244/2000 ...\n",
      "Iteration 1259/2000 ...\n",
      "Iteration 1274/2000 ...\n",
      "Iteration 1289/2000 ...\n",
      "Iteration 1304/2000 ...\n",
      "Iteration 1319/2000 ...\n",
      "Iteration 1334/2000 ...\n",
      "Iteration 1349/2000 ...\n",
      "Iteration 1364/2000 ...\n",
      "Iteration 1379/2000 ...\n",
      "Iteration 1394/2000 ...\n",
      "Iteration 1409/2000 ...\n",
      "Iteration 1424/2000 ...\n",
      "Iteration 1439/2000 ...\n",
      "Iteration 1454/2000 ...\n",
      "Iteration 1469/2000 ...\n",
      "Iteration 1484/2000 ...\n",
      "Iteration 1499/2000 ...\n",
      "Iteration 1514/2000 ...\n",
      "Iteration 1529/2000 ...\n",
      "Iteration 1544/2000 ...\n",
      "Iteration 1559/2000 ...\n",
      "Iteration 1574/2000 ...\n",
      "Iteration 1589/2000 ...\n",
      "Iteration 1604/2000 ...\n",
      "Iteration 1619/2000 ...\n",
      "Iteration 1634/2000 ...\n",
      "Iteration 1649/2000 ...\n",
      "Iteration 1664/2000 ...\n",
      "Iteration 1679/2000 ...\n",
      "Iteration 1694/2000 ...\n",
      "Iteration 1709/2000 ...\n",
      "Iteration 1724/2000 ...\n",
      "Iteration 1739/2000 ...\n",
      "INFO:tensorflow:Restoring parameters from /tmp/model.ckpt\n",
      "Testing... 2018-05-20 22:45:58.701010\n"
     ]
    },
    {
     "data": {
      "image/png": "[encoded data removed]",
      "text/plain": [
       "<Figure size 432x288 with 1 Axes>"
      ]
     },
     "metadata": {},
     "output_type": "display_data"
    },
    {
     "data": {
      "image/png": "[encoded data removed]",
      "text/plain": [
       "<Figure size 432x288 with 1 Axes>"
      ]
     },
     "metadata": {},
     "output_type": "display_data"
    },
    {
     "name": "stdout",
     "output_type": "stream",
     "text": [
      "Test accuracy: 54.00000214576721%%\n"
     ]
    }
   ],
   "source": [
    "#Thweid: Added garbage collector in the attempt to speed up performance\n",
    "import gc\n",
    "\n",
    "#Thweid: Parameters included for hyperparameter tuning\n",
    "#        Lists were used to batch process different learning rates with different filter sizes\n",
    "#all_learning_rates = [.001, .005, .01, .02, .025, .05, .06 , .075, .1, .2, .5 ]\n",
    "#all_filter_sizes = [ 32, 48, 64, 80, 96, 112, 128]\n",
    "best_learning_rate = [.06] \n",
    "best_filter_size = [112]\n",
    "\n",
    "#Parameters to keep track of the best total session through hyperparameter tuning\n",
    "best_valid_acc = -1\n",
    "best_sess_path = \"/tmp/best-model.ckpt\"\n",
    "\n",
    "sess = tf.Session()\n",
    "with sess.as_default():\n",
    "  for lr in best_learning_rate:  \n",
    "    for f in best_filter_size:\n",
    "\n",
    "      tf.train.start_queue_runners()\n",
    "      im_width = 24\n",
    "\n",
    "      # Define placeholders for image and label\n",
    "      y_ = tf.placeholder(tf.float32, [None, 10])\n",
    "      x = tf.placeholder(tf.float32, [None, im_width, im_width, 3])\n",
    "\n",
    "      # Define a convolutional neural network (CNN)\n",
    "      cnnL1 = tf.layers.conv2d(x, f, 5, strides=(2,2), activation=tf.nn.relu)\n",
    "      cnnL2 = tf.layers.conv2d(cnnL1, f, 5, activation=tf.nn.relu)\n",
    "      cnnL3 = tf.layers.conv2d(cnnL2, f, 5, activation=tf.nn.relu)\n",
    "      cnn = tf.reduce_sum(tf.reduce_sum(cnnL3, axis=1), axis=1)\n",
    "      cnn = tf.contrib.layers.flatten(cnn)\n",
    "      y_cnn = tf.layers.dense(cnn, 10)\n",
    "\n",
    "      cross_entropy_cnn = tf.reduce_mean(\n",
    "          tf.nn.softmax_cross_entropy_with_logits_v2(labels=y_, logits=y_cnn))\n",
    "      train_step_cnn = tf.train.GradientDescentOptimizer(lr).minimize(cross_entropy_cnn)\n",
    "\n",
    "      correct_prediction_cnn = tf.equal(tf.argmax(y_cnn, 1), tf.argmax(y_, 1))\n",
    "      accuracy_cnn = tf.reduce_mean(tf.cast(correct_prediction_cnn, tf.float32))\n",
    "\n",
    "      tf.global_variables_initializer().run(session=sess)\n",
    "\n",
    "      #Thweid: Additional values added for Early Stopping \n",
    "      #        Patience values from parameter tuning mentioned above\n",
    "      #Use saver to save the current session with the best results from the validatio\n",
    "      saver = tf.train.Saver()\n",
    "      best_sess_path = \"/tmp/model.ckpt\"\n",
    "      curr_max_accuracy = -1\n",
    "      curr_patience = 0\n",
    "      max_patience = 25\n",
    "      validation_increment = 15\n",
    "      quit_flag = False\n",
    "\n",
    "      # Train\n",
    "      print('Training... '+str(datetime.now()))\n",
    "      valid_batch_xs, valid_batch_ys = sess.run([test_images, tf.one_hot(test_labels, 10)])\n",
    "      train_losses = []\n",
    "      test_accuracies = []\n",
    "      valid_its = []\n",
    "      valid_accuracies = []\n",
    "        #Thweid: Iterations increased as patience and increment intervals requires 375 values to be iterated over before exit\n",
    "      num_its = 2000\n",
    "      for it in range(num_its):\n",
    "        if (it+1) % validation_increment == 0:\n",
    "          print('Iteration %d/%d ...' % (it, num_its))\n",
    "\n",
    "          # Validation accuracy\n",
    "          valid_acc_cnn = sess.run(accuracy_cnn, feed_dict={x: valid_batch_xs, y_: valid_batch_ys})\n",
    "          valid_accuracies.append(valid_acc_cnn)\n",
    "          valid_its.append(it)\n",
    "\n",
    "          #Thweid:Increase patience\n",
    "          #       Check to see if a new max validity is found, reseting the max patience if so\n",
    "          #       Verify patience hasn't been exhausted, exiting if so\n",
    "          curr_patience += 1\n",
    "          if (valid_acc_cnn > curr_max_accuracy):\n",
    "            saver.save(sess, best_sess_path)\n",
    "            curr_max_accuracy = valid_acc_cnn\n",
    "            curr_patience = 0\n",
    "          if(curr_patience > max_patience):\n",
    "            quit_flag = True \n",
    "\n",
    "\n",
    "        batch_xs, batch_ys = sess.run([images, tf.one_hot(labels, 10)])\n",
    "        loss_cnn_out, _ = sess.run([cross_entropy_cnn, train_step_cnn], feed_dict={x: batch_xs, y_: batch_ys})\n",
    "\n",
    "        train_losses.append(loss_cnn_out)\n",
    "\n",
    "        #Thweid: If flag set to quit, then stop going through validation set\n",
    "        if(quit_flag):\n",
    "          break\n",
    "      \n",
    "      #Thweid: Add Check to see if this was the best accuracy, updating if so\n",
    "      #        call garbage collector for attempted speedup\n",
    "      if(curr_max_accuracy > best_valid_acc):\n",
    "        best_valid_acc = curr_max_accuracy\n",
    "        saver.save(sess, best_sess_path)\n",
    "      gc.collect()\n",
    "\n",
    "  #Restore saved session\n",
    "  saver.restore(sess, best_sess_path)\n",
    "\n",
    "  print('Testing... '+str(datetime.now()))\n",
    "  # # Test trained model\n",
    "  test_batch_xs, test_batch_ys = sess.run([test_images, tf.one_hot(test_labels, 10)])\n",
    "\n",
    "  true_label = tf.argmax(y_, 1)\n",
    "  cnn_label = tf.argmax(y_cnn, 1)\n",
    "  acc_cnn_out, true_label_out, cnn_label_out = sess.run([accuracy_cnn, true_label, cnn_label], feed_dict={x: test_batch_xs,\n",
    "                                          y_: test_batch_ys})        \n",
    "        \n",
    "# Plot train loss and validation accuracy\n",
    "plt.plot(range(it+1), train_losses)\n",
    "plt.ylabel('Training loss')\n",
    "plt.xlabel('Iteration')\n",
    "plt.show()\n",
    "plt.plot(valid_its, valid_accuracies)\n",
    "plt.ylabel('Validation accuracy')\n",
    "plt.xlabel('Iteration')\n",
    "plt.show()\n",
    "\n",
    "print('Test accuracy: ' + str(acc_cnn_out*100)+ '%%')"
   ]
  },
  {
   "cell_type": "markdown",
   "metadata": {
    "colab_type": "text",
    "id": "PoGc-6q5bS9M"
   },
   "source": [
    "If you are curious what the weights, activations, or confused images look like, we visualize them below.  Feel free to modify this code to inspect other aspects of your trained model."
   ]
  },
  {
   "cell_type": "markdown",
   "metadata": {
    "colab": {
     "autoexec": {
      "startup": false,
      "wait_interval": 0
     }
    },
    "colab_type": "code",
    "id": "9z2FGsc9CSdX"
   },
   "source": [
    "with sess.as_default():\n",
    "  # Show weights from the first layer\n",
    "  print('Weights from the first layer')\n",
    "  with tf.variable_scope(\"conv2d_1\", reuse=True):\n",
    "    weights = tf.get_variable('kernel')\n",
    "  plot_filters(weights.eval())\n",
    "\n",
    "  # Show activations from the first feature map\n",
    "  print('Activations from the first feature map.')\n",
    "  fmap = cnnL1.eval(feed_dict={x: test_batch_xs, y_: test_batch_ys})\n",
    "  plot_filters(np.transpose(fmap[0:1,...], (1,2,0,3)))\n",
    "\n",
    "  # Show images in a confusion matrix\n",
    "  confusion = np.zeros((24,24,3,100))\n",
    "  for b in range(true_label_out.shape[0]):\n",
    "    confusion[:,:,:,true_label_out[b]*10 + cnn_label_out[b]] = test_batch_xs[b]\n",
    "\n",
    "  plot_filters(confusion, ylabel='True label', xlabel='Guessed label')\n",
    "\n"
   ]
  }
 ],
 "metadata": {
  "accelerator": "GPU",
  "colab": {
   "collapsed_sections": [],
   "default_view": {},
   "name": "Copy of Assignment3.ipynb",
   "provenance": [
    {
     "file_id": "0B-TLIIJqcZpNV3pjWEthUXhPMnc",
     "timestamp": 1523060994854
    }
   ],
   "version": "0.3.2",
   "views": {}
  },
  "kernelspec": {
   "display_name": "Python 3",
   "language": "python",
   "name": "python3"
  },
  "language_info": {
   "codemirror_mode": {
    "name": "ipython",
    "version": 3
   },
   "file_extension": ".py",
   "mimetype": "text/x-python",
   "name": "python",
   "nbconvert_exporter": "python",
   "pygments_lexer": "ipython3",
   "version": "3.5.5"
  }
 },
 "nbformat": 4,
 "nbformat_minor": 1
}
